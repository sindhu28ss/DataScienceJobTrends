{
 "cells": [
  {
   "cell_type": "markdown",
   "metadata": {
    "id": "_A_eNXsuSjsl"
   },
   "source": [
    "# **Walkthrough of LinkedIn Job Scraping Code**\n",
    "\n",
    "## Introduction\n",
    "This notebook demonstrates how to scrape job postings from LinkedIn using Python libraries such as requests, BeautifulSoup, and pandas. The target job title is \"{job_title}\" located in {City}."
   ]
  },
  {
   "cell_type": "markdown",
   "metadata": {
    "id": "9U4clKyXTfFT"
   },
   "source": [
    "### **1. Import Necessary Libraries**"
   ]
  },
  {
   "cell_type": "code",
   "execution_count": 1,
   "metadata": {
    "id": "BnkeWtQmWmYT"
   },
   "outputs": [],
   "source": [
    "import pandas as pd\n",
    "import numpy as np\n",
    "import matplotlib.pyplot as plt\n",
    "import seaborn as sns\n",
    "import requests\n",
    "from bs4 import BeautifulSoup\n",
    "import random\n",
    "import pandas as pd"
   ]
  },
  {
   "cell_type": "markdown",
   "metadata": {
    "id": "WTo7X7NLT7OR"
   },
   "source": [
    "### **2. Initialize Job List**"
   ]
  },
  {
   "cell_type": "code",
   "execution_count": 2,
   "metadata": {
    "id": "3esFZjxdx9t3"
   },
   "outputs": [],
   "source": [
    "job_csv = []"
   ]
  },
  {
   "cell_type": "markdown",
   "metadata": {
    "id": "ZWsHyNfoUGNH"
   },
   "source": [
    "### **3. Set Search Parameters**"
   ]
  },
  {
   "cell_type": "code",
   "execution_count": 3,
   "metadata": {
    "id": "M-SR9PK1xyRQ"
   },
   "outputs": [],
   "source": [
    "title = \"Data Architect\"  # Job title\n",
    "location = \"Los Angeles\"  # Job location\n",
    "start = 1  # Starting point for pagination"
   ]
  },
  {
   "cell_type": "markdown",
   "metadata": {
    "id": "Efqszm0jULtv"
   },
   "source": [
    "### **4. Construct URL and Send Request**\n",
    "\n",
    "Create the URL for LinkedIn job search, send a GET request, and parse the response to find job postings."
   ]
  },
  {
   "cell_type": "code",
   "execution_count": 4,
   "metadata": {
    "id": "azqo6uF9x2Fa"
   },
   "outputs": [],
   "source": [
    "# Construct the URL for LinkedIn job search\n",
    "list_url = f\"https://www.linkedin.com/jobs-guest/jobs/api/seeMoreJobPostings/search?keywords={title}&location={location}&start={start}\"\n",
    "\n",
    "# Send a GET request to the URL and store the response\n",
    "response = requests.get(list_url)\n",
    "\n",
    "#Get the HTML, parse the response and find all list items(jobs postings)\n",
    "list_data = response.text\n",
    "list_soup = BeautifulSoup(list_data, \"html.parser\")\n",
    "page_jobs = list_soup.find_all(\"li\")"
   ]
  },
  {
   "cell_type": "markdown",
   "metadata": {
    "id": "HcBNyx_NUSN4"
   },
   "source": [
    "### **5. Initialize Job ID List**"
   ]
  },
  {
   "cell_type": "code",
   "execution_count": 5,
   "metadata": {
    "id": "8JxK6h0Tx37K"
   },
   "outputs": [],
   "source": [
    "id_list = []"
   ]
  },
  {
   "cell_type": "markdown",
   "metadata": {
    "id": "fuXYTVsDUivh"
   },
   "source": [
    "### **6. Extract Job IDs**"
   ]
  },
  {
   "cell_type": "code",
   "execution_count": 6,
   "metadata": {
    "colab": {
     "base_uri": "https://localhost:8080/"
    },
    "id": "6m2spjoux62k",
    "outputId": "6c1e3d65-5680-4025-bfb5-37b381d06922"
   },
   "outputs": [
    {
     "name": "stdout",
     "output_type": "stream",
     "text": [
      "4027353475\n",
      "3981819178\n",
      "4006376596\n",
      "4030441001\n",
      "3928344446\n",
      "4033698759\n",
      "4019047330\n",
      "4038931398\n",
      "4046278009\n",
      "4039923587\n"
     ]
    }
   ],
   "source": [
    "# Loop through each job posting and extract the job ID\n",
    "for job in page_jobs:\n",
    "    # Find the div element containing the job details\n",
    "    base_card_div = job.find(\"div\", {\"class\": \"base-card\"})\n",
    "\n",
    "    # Extract the job ID from the data-entity-urn attribute\n",
    "    job_id = base_card_div.get(\"data-entity-urn\").split(\":\")[3]\n",
    "    print(job_id)  # Print the job ID for verification\n",
    "\n",
    "    # Append the job ID to the id_list\n",
    "    id_list.append(job_id)"
   ]
  },
  {
   "cell_type": "markdown",
   "metadata": {
    "id": "oYCyzlpmUnxV"
   },
   "source": [
    "### **7. Fetch Job Details**"
   ]
  },
  {
   "cell_type": "code",
   "execution_count": 7,
   "metadata": {
    "colab": {
     "base_uri": "https://localhost:8080/"
    },
    "id": "29CLgxhHyNi2",
    "outputId": "76e076b2-d204-410a-e35a-90f8d96ea7a8"
   },
   "outputs": [
    {
     "name": "stdout",
     "output_type": "stream",
     "text": [
      "200\n",
      "200\n",
      "200\n",
      "200\n",
      "200\n",
      "200\n",
      "200\n",
      "200\n",
      "200\n",
      "200\n"
     ]
    }
   ],
   "source": [
    "job_list = []\n",
    "\n",
    "for job_id in id_list:\n",
    "    # Construct the URL for each job using the job ID\n",
    "    job_url = f\"https://www.linkedin.com/jobs-guest/jobs/api/jobPosting/{job_id}\"\n",
    "\n",
    "        # Send a GET request to the job URL and parse the reponse\n",
    "    job_response = requests.get(job_url)\n",
    "    print(job_response.status_code)\n",
    "    job_soup = BeautifulSoup(job_response.text, \"html.parser\")\n",
    "\n",
    "     # Create a dictionary to store job details\n",
    "    job_post = {}\n",
    "\n",
    "    try:\n",
    "        job_post[\"job_title\"] = job_soup.find(\"h2\", {\"class\":\"top-card-layout__title font-sans text-lg papabear:text-xl font-bold leading-open text-color-text mb-0 topcard__title\"}).text.strip()\n",
    "    except:\n",
    "        job_post[\"job_title\"] = None\n",
    "\n",
    "    # Try to extract and store the company name\n",
    "    try:\n",
    "        job_post[\"company_name\"] = job_soup.find(\"a\", {\"class\": \"topcard__org-name-link topcard__flavor--black-link\"}).text.strip()\n",
    "    except:\n",
    "        job_post[\"company_name\"] = None\n",
    "\n",
    "    try:\n",
    "        job_post['location'] = job_soup.find(\"span\", {\"class\": \"topcard__flavor topcard__flavor--bullet\"}).text.strip()\n",
    "    except:\n",
    "        job_post['location'] = None\n",
    "\n",
    "    # Try to extract and store the time posted\n",
    "    try:\n",
    "        job_post[\"time_posted\"] = job_soup.find(\"span\", {\"class\": \"posted-time-ago__text topcard__flavor--metadata\"}).text.strip()\n",
    "    except:\n",
    "        job_post[\"time_posted\"] = None\n",
    "\n",
    "    # Try to extract and store the number of applicants\n",
    "    try:\n",
    "        job_post[\"num_applicants\"] = job_soup.find(\"span\", {\"class\": \"num-applicants__caption topcard__flavor--metadata topcard__flavor--bullet\"}).text.strip()\n",
    "    except:\n",
    "        job_post[\"num_applicants\"] = None\n",
    "\n",
    "    try:\n",
    "        job_post[\"salary\"] = job_soup.find(\"div\", {\"class\": \"salary compensation__salary\"}).text.strip()\n",
    "    except:\n",
    "        job_post[\"salary\"] = None\n",
    "\n",
    "    try:\n",
    "        job_post[\"seniority\"] = job_soup.find('li', class_='description__job-criteria-item').find('span').text.strip()\n",
    "    except:\n",
    "        job_post[\"seniority\"] = None\n",
    "\n",
    "    try:\n",
    "        job_post['employment_type'] = job_soup.find_all('li', class_='description__job-criteria-item')[1].find('span').text.strip()\n",
    "    except:\n",
    "        job_post['employment_type'] = None\n",
    "\n",
    "    try:\n",
    "        job_post['job_function'] = job_soup.find_all('li', class_='description__job-criteria-item')[2].find('span').text.strip()\n",
    "    except:\n",
    "        job_post['job_function'] = None\n",
    "\n",
    "    try:\n",
    "        job_post['industry'] = job_soup.find_all('li', class_='description__job-criteria-item')[3].find('span').text.strip()\n",
    "    except:\n",
    "        job_post['industry'] = None\n",
    "\n",
    "    job_list.append(job_post)\n"
   ]
  },
  {
   "cell_type": "markdown",
   "metadata": {
    "id": "LWrI7EAOVBc5"
   },
   "source": [
    "### **8. Append Job Details to CSV List**"
   ]
  },
  {
   "cell_type": "code",
   "execution_count": 8,
   "metadata": {
    "id": "v2uU_pn5QPJU"
   },
   "outputs": [],
   "source": [
    "# Extend the job_csv list with the job details from job_list\n",
    "job_csv.extend(job_list)"
   ]
  },
  {
   "cell_type": "markdown",
   "metadata": {
    "id": "jwaS24IIVK83"
   },
   "source": [
    "### **9. Create DataFrame and Clean Data**"
   ]
  },
  {
   "cell_type": "code",
   "execution_count": 9,
   "metadata": {
    "colab": {
     "base_uri": "https://localhost:8080/"
    },
    "id": "n6AFDb8mIIWg",
    "outputId": "4f27235f-f954-45f8-9fff-af16178755fc"
   },
   "outputs": [
    {
     "data": {
      "text/plain": [
       "10"
      ]
     },
     "execution_count": 9,
     "metadata": {},
     "output_type": "execute_result"
    }
   ],
   "source": [
    "# Create a DataFrame from the job_csv list\n",
    "jobs_df = pd.DataFrame(job_csv)\n",
    "\n",
    "# Drop rows where all elements are missing\n",
    "jobs_df.dropna(how='all', inplace=True)\n",
    "\n",
    "# Reset the index of the DataFrame\n",
    "jobs_df.reset_index(drop=True, inplace=True)\n",
    "\n",
    "# Drop duplicate rows based on specified columns\n",
    "jobs_df.drop_duplicates(subset=['job_title', 'company_name', 'location', 'salary', 'seniority', 'employment_type'], keep='first', inplace=True)\n",
    "\n",
    "# Reset the index of the DataFrame again after dropping duplicates\n",
    "jobs_df.reset_index(drop=True, inplace=True)\n",
    "\n",
    "len(jobs_df)"
   ]
  },
  {
   "cell_type": "markdown",
   "metadata": {
    "id": "5deB8-wbVTnr"
   },
   "source": [
    "### **10. Save Data to CSV**"
   ]
  },
  {
   "cell_type": "code",
   "execution_count": 10,
   "metadata": {
    "id": "WYoXGhazSoNT"
   },
   "outputs": [],
   "source": [
    "# Save the cleaned job data to a CSV file\n",
    "jobs_df.to_csv('data_architect_52.csv', index=False)"
   ]
  },
  {
   "cell_type": "code",
   "execution_count": null,
   "metadata": {
    "id": "h1--tMjkWtTw"
   },
   "outputs": [],
   "source": [
    "df = pd.read_csv('/content/jobposting_data_std.csv')"
   ]
  },
  {
   "cell_type": "code",
   "execution_count": null,
   "metadata": {
    "colab": {
     "base_uri": "https://localhost:8080/",
     "height": 521
    },
    "id": "5lqZAGk2XuTt",
    "outputId": "80d91afe-efef-4056-ff0f-498148b1164d"
   },
   "outputs": [
    {
     "data": {
      "application/vnd.google.colaboratory.intrinsic+json": {
       "summary": "{\n  \"name\": \"df\",\n  \"rows\": 545,\n  \"fields\": [\n    {\n      \"column\": \"job_title\",\n      \"properties\": {\n        \"dtype\": \"string\",\n        \"num_unique_values\": 276,\n        \"samples\": [\n          \"Data Analyst - Junior\",\n          \"Data Engineer (L5) - Product\",\n          \"Machine Learning Scientist\"\n        ],\n        \"semantic_type\": \"\",\n        \"description\": \"\"\n      }\n    },\n    {\n      \"column\": \"company_name\",\n      \"properties\": {\n        \"dtype\": \"string\",\n        \"num_unique_values\": 285,\n        \"samples\": [\n          \"Harnham\",\n          \"Rebel Space Technologies\",\n          \"Artech L.L.C.\"\n        ],\n        \"semantic_type\": \"\",\n        \"description\": \"\"\n      }\n    },\n    {\n      \"column\": \"location\",\n      \"properties\": {\n        \"dtype\": \"category\",\n        \"num_unique_values\": 93,\n        \"samples\": [\n          \"Redmond, WA\",\n          \"Menlo Park, CA\",\n          \"San Francisco County, CA\"\n        ],\n        \"semantic_type\": \"\",\n        \"description\": \"\"\n      }\n    },\n    {\n      \"column\": \"City\",\n      \"properties\": {\n        \"dtype\": \"category\",\n        \"num_unique_values\": 90,\n        \"samples\": [\n          \"Plano\",\n          \"Menlo Park\",\n          \"Cupertino\"\n        ],\n        \"semantic_type\": \"\",\n        \"description\": \"\"\n      }\n    },\n    {\n      \"column\": \"State\",\n      \"properties\": {\n        \"dtype\": \"category\",\n        \"num_unique_values\": 13,\n        \"samples\": [\n          \"MD\",\n          \"AR\",\n          \"TX\"\n        ],\n        \"semantic_type\": \"\",\n        \"description\": \"\"\n      }\n    },\n    {\n      \"column\": \"time_posted\",\n      \"properties\": {\n        \"dtype\": \"category\",\n        \"num_unique_values\": 20,\n        \"samples\": [\n          \"1 month ago\",\n          \"9 months ago\",\n          \"6 days ago\"\n        ],\n        \"semantic_type\": \"\",\n        \"description\": \"\"\n      }\n    },\n    {\n      \"column\": \"num_applicants\",\n      \"properties\": {\n        \"dtype\": \"category\",\n        \"num_unique_values\": 115,\n        \"samples\": [\n          \"118 applicants\",\n          \"197 applicants\",\n          \"45 applicants\"\n        ],\n        \"semantic_type\": \"\",\n        \"description\": \"\"\n      }\n    },\n    {\n      \"column\": \"salary\",\n      \"properties\": {\n        \"dtype\": \"category\",\n        \"num_unique_values\": 247,\n        \"samples\": [\n          \"$206,000.00/yr - $281,000.00/yr\",\n          \"$130,000.00/yr - $200,000.00/yr\",\n          \"$50,000.00/yr - $120,000.00/yr\"\n        ],\n        \"semantic_type\": \"\",\n        \"description\": \"\"\n      }\n    },\n    {\n      \"column\": \"Min_Salary\",\n      \"properties\": {\n        \"dtype\": \"number\",\n        \"std\": 39026,\n        \"min\": 46000,\n        \"max\": 266000,\n        \"num_unique_values\": 120,\n        \"samples\": [\n          87000,\n          64480,\n          80000\n        ],\n        \"semantic_type\": \"\",\n        \"description\": \"\"\n      }\n    },\n    {\n      \"column\": \"Max_Salary\",\n      \"properties\": {\n        \"dtype\": \"number\",\n        \"std\": 80392,\n        \"min\": 60000,\n        \"max\": 720000,\n        \"num_unique_values\": 128,\n        \"samples\": [\n          176000,\n          252600,\n          239000\n        ],\n        \"semantic_type\": \"\",\n        \"description\": \"\"\n      }\n    },\n    {\n      \"column\": \"seniority\",\n      \"properties\": {\n        \"dtype\": \"category\",\n        \"num_unique_values\": 6,\n        \"samples\": [\n          \"Entry level\",\n          \"Mid-Senior level\",\n          \"Executive\"\n        ],\n        \"semantic_type\": \"\",\n        \"description\": \"\"\n      }\n    },\n    {\n      \"column\": \"employment_type\",\n      \"properties\": {\n        \"dtype\": \"category\",\n        \"num_unique_values\": 2,\n        \"samples\": [\n          \"Contract\",\n          \"Full-time\"\n        ],\n        \"semantic_type\": \"\",\n        \"description\": \"\"\n      }\n    },\n    {\n      \"column\": \"job_function\",\n      \"properties\": {\n        \"dtype\": \"category\",\n        \"num_unique_values\": 46,\n        \"samples\": [\n          \"Analyst and Information Technology\",\n          \"Strategy/Planning and Information Technology\"\n        ],\n        \"semantic_type\": \"\",\n        \"description\": \"\"\n      }\n    },\n    {\n      \"column\": \"industry\",\n      \"properties\": {\n        \"dtype\": \"category\",\n        \"num_unique_values\": 101,\n        \"samples\": [\n          \"Accounting, Consumer Services, and Appliances, Electrical, and Electronics Manufacturing\",\n          \"Investment Management\"\n        ],\n        \"semantic_type\": \"\",\n        \"description\": \"\"\n      }\n    },\n    {\n      \"column\": \"industry_category\",\n      \"properties\": {\n        \"dtype\": \"category\",\n        \"num_unique_values\": 13,\n        \"samples\": [\n          \"Hospitality and Leisure\",\n          \"Professional Services and Consulting\"\n        ],\n        \"semantic_type\": \"\",\n        \"description\": \"\"\n      }\n    },\n    {\n      \"column\": \"job_title_category\",\n      \"properties\": {\n        \"dtype\": \"category\",\n        \"num_unique_values\": 9,\n        \"samples\": [\n          \"Data Engineer\",\n          \"Machine Learning Engineer\"\n        ],\n        \"semantic_type\": \"\",\n        \"description\": \"\"\n      }\n    },\n    {\n      \"column\": \"Cluster\",\n      \"properties\": {\n        \"dtype\": \"int32\",\n        \"num_unique_values\": 3,\n        \"samples\": [\n          0,\n          2\n        ],\n        \"semantic_type\": \"\",\n        \"description\": \"\"\n      }\n    }\n  ]\n}",
       "type": "dataframe",
       "variable_name": "df"
      },
      "text/html": [
       "\n",
       "  <div id=\"df-b9fa6d2a-3a2b-4710-83f8-9992b580a46f\" class=\"colab-df-container\">\n",
       "    <div>\n",
       "<style scoped>\n",
       "    .dataframe tbody tr th:only-of-type {\n",
       "        vertical-align: middle;\n",
       "    }\n",
       "\n",
       "    .dataframe tbody tr th {\n",
       "        vertical-align: top;\n",
       "    }\n",
       "\n",
       "    .dataframe thead th {\n",
       "        text-align: right;\n",
       "    }\n",
       "</style>\n",
       "<table border=\"1\" class=\"dataframe\">\n",
       "  <thead>\n",
       "    <tr style=\"text-align: right;\">\n",
       "      <th></th>\n",
       "      <th>job_title</th>\n",
       "      <th>company_name</th>\n",
       "      <th>location</th>\n",
       "      <th>City</th>\n",
       "      <th>State</th>\n",
       "      <th>time_posted</th>\n",
       "      <th>num_applicants</th>\n",
       "      <th>salary</th>\n",
       "      <th>Min_Salary</th>\n",
       "      <th>Max_Salary</th>\n",
       "      <th>seniority</th>\n",
       "      <th>employment_type</th>\n",
       "      <th>job_function</th>\n",
       "      <th>industry</th>\n",
       "      <th>industry_category</th>\n",
       "      <th>job_title_category</th>\n",
       "      <th>Cluster</th>\n",
       "    </tr>\n",
       "  </thead>\n",
       "  <tbody>\n",
       "    <tr>\n",
       "      <th>0</th>\n",
       "      <td>ML Engineer-AI/ML</td>\n",
       "      <td>Zortech Solutions</td>\n",
       "      <td>Austin, TX</td>\n",
       "      <td>Austin</td>\n",
       "      <td>TX</td>\n",
       "      <td>1 month ago</td>\n",
       "      <td>185 applicants</td>\n",
       "      <td>$130,000.00/yr - $150,000.00/yr</td>\n",
       "      <td>130000</td>\n",
       "      <td>150000</td>\n",
       "      <td>Entry level</td>\n",
       "      <td>Full-time</td>\n",
       "      <td>Engineering and Information Technology</td>\n",
       "      <td>Human Resources Services</td>\n",
       "      <td>Others</td>\n",
       "      <td>AI/ML</td>\n",
       "      <td>0</td>\n",
       "    </tr>\n",
       "    <tr>\n",
       "      <th>1</th>\n",
       "      <td>Ai/ML Engineer</td>\n",
       "      <td>Procyon Technostructure</td>\n",
       "      <td>Austin, TX</td>\n",
       "      <td>Austin</td>\n",
       "      <td>TX</td>\n",
       "      <td>5 months ago</td>\n",
       "      <td>NaN</td>\n",
       "      <td>$90,900.00/yr - $125,600.00/yr</td>\n",
       "      <td>90900</td>\n",
       "      <td>125600</td>\n",
       "      <td>Entry level</td>\n",
       "      <td>Full-time</td>\n",
       "      <td>Engineering and Information Technology</td>\n",
       "      <td>IT Services and IT Consulting</td>\n",
       "      <td>Information Technology and Services</td>\n",
       "      <td>AI/ML</td>\n",
       "      <td>0</td>\n",
       "    </tr>\n",
       "    <tr>\n",
       "      <th>2</th>\n",
       "      <td>Machine Learning Engineer</td>\n",
       "      <td>Publishing.com</td>\n",
       "      <td>Austin, TX</td>\n",
       "      <td>Austin</td>\n",
       "      <td>TX</td>\n",
       "      <td>5 days ago</td>\n",
       "      <td>NaN</td>\n",
       "      <td>$150,000.00/yr - $200,000.00/yr</td>\n",
       "      <td>150000</td>\n",
       "      <td>200000</td>\n",
       "      <td>Mid-Senior level</td>\n",
       "      <td>Full-time</td>\n",
       "      <td>Engineering and Information Technology</td>\n",
       "      <td>Internet Publishing</td>\n",
       "      <td>Information Technology and Services</td>\n",
       "      <td>Machine Learning Engineer</td>\n",
       "      <td>0</td>\n",
       "    </tr>\n",
       "    <tr>\n",
       "      <th>3</th>\n",
       "      <td>ML Engineer - Customer Insights &amp; Market Intel...</td>\n",
       "      <td>Omnicell</td>\n",
       "      <td>Austin, TX</td>\n",
       "      <td>Austin</td>\n",
       "      <td>TX</td>\n",
       "      <td>1 week ago</td>\n",
       "      <td>107 applicants</td>\n",
       "      <td>$120,000.00/yr - $160,000.00/yr</td>\n",
       "      <td>120000</td>\n",
       "      <td>160000</td>\n",
       "      <td>Entry level</td>\n",
       "      <td>Full-time</td>\n",
       "      <td>Engineering and Information Technology</td>\n",
       "      <td>Hospitals and Health Care</td>\n",
       "      <td>Healthcare and Life Sciences</td>\n",
       "      <td>Machine Learning Engineer</td>\n",
       "      <td>0</td>\n",
       "    </tr>\n",
       "    <tr>\n",
       "      <th>4</th>\n",
       "      <td>Machine Learning Research Engineer</td>\n",
       "      <td>Neural Magic</td>\n",
       "      <td>Somerville, MA</td>\n",
       "      <td>Somerville</td>\n",
       "      <td>MA</td>\n",
       "      <td>2 months ago</td>\n",
       "      <td>NaN</td>\n",
       "      <td>$80,000.00/yr - $120,000.00/yr</td>\n",
       "      <td>80000</td>\n",
       "      <td>120000</td>\n",
       "      <td>Entry level</td>\n",
       "      <td>Full-time</td>\n",
       "      <td>Engineering</td>\n",
       "      <td>Non-profit Organizations and Primary and Secon...</td>\n",
       "      <td>Non-profit and Education</td>\n",
       "      <td>Machine Learning Engineer</td>\n",
       "      <td>0</td>\n",
       "    </tr>\n",
       "  </tbody>\n",
       "</table>\n",
       "</div>\n",
       "    <div class=\"colab-df-buttons\">\n",
       "\n",
       "  <div class=\"colab-df-container\">\n",
       "    <button class=\"colab-df-convert\" onclick=\"convertToInteractive('df-b9fa6d2a-3a2b-4710-83f8-9992b580a46f')\"\n",
       "            title=\"Convert this dataframe to an interactive table.\"\n",
       "            style=\"display:none;\">\n",
       "\n",
       "  <svg xmlns=\"http://www.w3.org/2000/svg\" height=\"24px\" viewBox=\"0 -960 960 960\">\n",
       "    <path d=\"M120-120v-720h720v720H120Zm60-500h600v-160H180v160Zm220 220h160v-160H400v160Zm0 220h160v-160H400v160ZM180-400h160v-160H180v160Zm440 0h160v-160H620v160ZM180-180h160v-160H180v160Zm440 0h160v-160H620v160Z\"/>\n",
       "  </svg>\n",
       "    </button>\n",
       "\n",
       "  <style>\n",
       "    .colab-df-container {\n",
       "      display:flex;\n",
       "      gap: 12px;\n",
       "    }\n",
       "\n",
       "    .colab-df-convert {\n",
       "      background-color: #E8F0FE;\n",
       "      border: none;\n",
       "      border-radius: 50%;\n",
       "      cursor: pointer;\n",
       "      display: none;\n",
       "      fill: #1967D2;\n",
       "      height: 32px;\n",
       "      padding: 0 0 0 0;\n",
       "      width: 32px;\n",
       "    }\n",
       "\n",
       "    .colab-df-convert:hover {\n",
       "      background-color: #E2EBFA;\n",
       "      box-shadow: 0px 1px 2px rgba(60, 64, 67, 0.3), 0px 1px 3px 1px rgba(60, 64, 67, 0.15);\n",
       "      fill: #174EA6;\n",
       "    }\n",
       "\n",
       "    .colab-df-buttons div {\n",
       "      margin-bottom: 4px;\n",
       "    }\n",
       "\n",
       "    [theme=dark] .colab-df-convert {\n",
       "      background-color: #3B4455;\n",
       "      fill: #D2E3FC;\n",
       "    }\n",
       "\n",
       "    [theme=dark] .colab-df-convert:hover {\n",
       "      background-color: #434B5C;\n",
       "      box-shadow: 0px 1px 3px 1px rgba(0, 0, 0, 0.15);\n",
       "      filter: drop-shadow(0px 1px 2px rgba(0, 0, 0, 0.3));\n",
       "      fill: #FFFFFF;\n",
       "    }\n",
       "  </style>\n",
       "\n",
       "    <script>\n",
       "      const buttonEl =\n",
       "        document.querySelector('#df-b9fa6d2a-3a2b-4710-83f8-9992b580a46f button.colab-df-convert');\n",
       "      buttonEl.style.display =\n",
       "        google.colab.kernel.accessAllowed ? 'block' : 'none';\n",
       "\n",
       "      async function convertToInteractive(key) {\n",
       "        const element = document.querySelector('#df-b9fa6d2a-3a2b-4710-83f8-9992b580a46f');\n",
       "        const dataTable =\n",
       "          await google.colab.kernel.invokeFunction('convertToInteractive',\n",
       "                                                    [key], {});\n",
       "        if (!dataTable) return;\n",
       "\n",
       "        const docLinkHtml = 'Like what you see? Visit the ' +\n",
       "          '<a target=\"_blank\" href=https://colab.research.google.com/notebooks/data_table.ipynb>data table notebook</a>'\n",
       "          + ' to learn more about interactive tables.';\n",
       "        element.innerHTML = '';\n",
       "        dataTable['output_type'] = 'display_data';\n",
       "        await google.colab.output.renderOutput(dataTable, element);\n",
       "        const docLink = document.createElement('div');\n",
       "        docLink.innerHTML = docLinkHtml;\n",
       "        element.appendChild(docLink);\n",
       "      }\n",
       "    </script>\n",
       "  </div>\n",
       "\n",
       "\n",
       "<div id=\"df-8bd335b4-30b7-43e7-ab85-4e3f415e3cf2\">\n",
       "  <button class=\"colab-df-quickchart\" onclick=\"quickchart('df-8bd335b4-30b7-43e7-ab85-4e3f415e3cf2')\"\n",
       "            title=\"Suggest charts\"\n",
       "            style=\"display:none;\">\n",
       "\n",
       "<svg xmlns=\"http://www.w3.org/2000/svg\" height=\"24px\"viewBox=\"0 0 24 24\"\n",
       "     width=\"24px\">\n",
       "    <g>\n",
       "        <path d=\"M19 3H5c-1.1 0-2 .9-2 2v14c0 1.1.9 2 2 2h14c1.1 0 2-.9 2-2V5c0-1.1-.9-2-2-2zM9 17H7v-7h2v7zm4 0h-2V7h2v10zm4 0h-2v-4h2v4z\"/>\n",
       "    </g>\n",
       "</svg>\n",
       "  </button>\n",
       "\n",
       "<style>\n",
       "  .colab-df-quickchart {\n",
       "      --bg-color: #E8F0FE;\n",
       "      --fill-color: #1967D2;\n",
       "      --hover-bg-color: #E2EBFA;\n",
       "      --hover-fill-color: #174EA6;\n",
       "      --disabled-fill-color: #AAA;\n",
       "      --disabled-bg-color: #DDD;\n",
       "  }\n",
       "\n",
       "  [theme=dark] .colab-df-quickchart {\n",
       "      --bg-color: #3B4455;\n",
       "      --fill-color: #D2E3FC;\n",
       "      --hover-bg-color: #434B5C;\n",
       "      --hover-fill-color: #FFFFFF;\n",
       "      --disabled-bg-color: #3B4455;\n",
       "      --disabled-fill-color: #666;\n",
       "  }\n",
       "\n",
       "  .colab-df-quickchart {\n",
       "    background-color: var(--bg-color);\n",
       "    border: none;\n",
       "    border-radius: 50%;\n",
       "    cursor: pointer;\n",
       "    display: none;\n",
       "    fill: var(--fill-color);\n",
       "    height: 32px;\n",
       "    padding: 0;\n",
       "    width: 32px;\n",
       "  }\n",
       "\n",
       "  .colab-df-quickchart:hover {\n",
       "    background-color: var(--hover-bg-color);\n",
       "    box-shadow: 0 1px 2px rgba(60, 64, 67, 0.3), 0 1px 3px 1px rgba(60, 64, 67, 0.15);\n",
       "    fill: var(--button-hover-fill-color);\n",
       "  }\n",
       "\n",
       "  .colab-df-quickchart-complete:disabled,\n",
       "  .colab-df-quickchart-complete:disabled:hover {\n",
       "    background-color: var(--disabled-bg-color);\n",
       "    fill: var(--disabled-fill-color);\n",
       "    box-shadow: none;\n",
       "  }\n",
       "\n",
       "  .colab-df-spinner {\n",
       "    border: 2px solid var(--fill-color);\n",
       "    border-color: transparent;\n",
       "    border-bottom-color: var(--fill-color);\n",
       "    animation:\n",
       "      spin 1s steps(1) infinite;\n",
       "  }\n",
       "\n",
       "  @keyframes spin {\n",
       "    0% {\n",
       "      border-color: transparent;\n",
       "      border-bottom-color: var(--fill-color);\n",
       "      border-left-color: var(--fill-color);\n",
       "    }\n",
       "    20% {\n",
       "      border-color: transparent;\n",
       "      border-left-color: var(--fill-color);\n",
       "      border-top-color: var(--fill-color);\n",
       "    }\n",
       "    30% {\n",
       "      border-color: transparent;\n",
       "      border-left-color: var(--fill-color);\n",
       "      border-top-color: var(--fill-color);\n",
       "      border-right-color: var(--fill-color);\n",
       "    }\n",
       "    40% {\n",
       "      border-color: transparent;\n",
       "      border-right-color: var(--fill-color);\n",
       "      border-top-color: var(--fill-color);\n",
       "    }\n",
       "    60% {\n",
       "      border-color: transparent;\n",
       "      border-right-color: var(--fill-color);\n",
       "    }\n",
       "    80% {\n",
       "      border-color: transparent;\n",
       "      border-right-color: var(--fill-color);\n",
       "      border-bottom-color: var(--fill-color);\n",
       "    }\n",
       "    90% {\n",
       "      border-color: transparent;\n",
       "      border-bottom-color: var(--fill-color);\n",
       "    }\n",
       "  }\n",
       "</style>\n",
       "\n",
       "  <script>\n",
       "    async function quickchart(key) {\n",
       "      const quickchartButtonEl =\n",
       "        document.querySelector('#' + key + ' button');\n",
       "      quickchartButtonEl.disabled = true;  // To prevent multiple clicks.\n",
       "      quickchartButtonEl.classList.add('colab-df-spinner');\n",
       "      try {\n",
       "        const charts = await google.colab.kernel.invokeFunction(\n",
       "            'suggestCharts', [key], {});\n",
       "      } catch (error) {\n",
       "        console.error('Error during call to suggestCharts:', error);\n",
       "      }\n",
       "      quickchartButtonEl.classList.remove('colab-df-spinner');\n",
       "      quickchartButtonEl.classList.add('colab-df-quickchart-complete');\n",
       "    }\n",
       "    (() => {\n",
       "      let quickchartButtonEl =\n",
       "        document.querySelector('#df-8bd335b4-30b7-43e7-ab85-4e3f415e3cf2 button');\n",
       "      quickchartButtonEl.style.display =\n",
       "        google.colab.kernel.accessAllowed ? 'block' : 'none';\n",
       "    })();\n",
       "  </script>\n",
       "</div>\n",
       "\n",
       "    </div>\n",
       "  </div>\n"
      ],
      "text/plain": [
       "                                           job_title             company_name  \\\n",
       "0                                  ML Engineer-AI/ML        Zortech Solutions   \n",
       "1                                     Ai/ML Engineer  Procyon Technostructure   \n",
       "2                          Machine Learning Engineer           Publishing.com   \n",
       "3  ML Engineer - Customer Insights & Market Intel...                 Omnicell   \n",
       "4                 Machine Learning Research Engineer             Neural Magic   \n",
       "\n",
       "         location        City State   time_posted  num_applicants  \\\n",
       "0      Austin, TX      Austin    TX   1 month ago  185 applicants   \n",
       "1      Austin, TX      Austin    TX  5 months ago             NaN   \n",
       "2      Austin, TX      Austin    TX    5 days ago             NaN   \n",
       "3      Austin, TX      Austin    TX    1 week ago  107 applicants   \n",
       "4  Somerville, MA  Somerville    MA  2 months ago             NaN   \n",
       "\n",
       "                            salary  Min_Salary  Max_Salary         seniority  \\\n",
       "0  $130,000.00/yr - $150,000.00/yr      130000      150000       Entry level   \n",
       "1   $90,900.00/yr - $125,600.00/yr       90900      125600       Entry level   \n",
       "2  $150,000.00/yr - $200,000.00/yr      150000      200000  Mid-Senior level   \n",
       "3  $120,000.00/yr - $160,000.00/yr      120000      160000       Entry level   \n",
       "4   $80,000.00/yr - $120,000.00/yr       80000      120000       Entry level   \n",
       "\n",
       "  employment_type                            job_function  \\\n",
       "0       Full-time  Engineering and Information Technology   \n",
       "1       Full-time  Engineering and Information Technology   \n",
       "2       Full-time  Engineering and Information Technology   \n",
       "3       Full-time  Engineering and Information Technology   \n",
       "4       Full-time                             Engineering   \n",
       "\n",
       "                                            industry  \\\n",
       "0                           Human Resources Services   \n",
       "1                      IT Services and IT Consulting   \n",
       "2                                Internet Publishing   \n",
       "3                          Hospitals and Health Care   \n",
       "4  Non-profit Organizations and Primary and Secon...   \n",
       "\n",
       "                     industry_category         job_title_category  Cluster  \n",
       "0                               Others                      AI/ML        0  \n",
       "1  Information Technology and Services                      AI/ML        0  \n",
       "2  Information Technology and Services  Machine Learning Engineer        0  \n",
       "3         Healthcare and Life Sciences  Machine Learning Engineer        0  \n",
       "4             Non-profit and Education  Machine Learning Engineer        0  "
      ]
     },
     "execution_count": 14,
     "metadata": {},
     "output_type": "execute_result"
    }
   ],
   "source": [
    "df.head()"
   ]
  }
 ],
 "metadata": {
  "colab": {
   "provenance": []
  },
  "kernelspec": {
   "display_name": "Python 3 (ipykernel)",
   "language": "python",
   "name": "python3"
  },
  "language_info": {
   "codemirror_mode": {
    "name": "ipython",
    "version": 3
   },
   "file_extension": ".py",
   "mimetype": "text/x-python",
   "name": "python",
   "nbconvert_exporter": "python",
   "pygments_lexer": "ipython3",
   "version": "3.11.4"
  }
 },
 "nbformat": 4,
 "nbformat_minor": 1
}
